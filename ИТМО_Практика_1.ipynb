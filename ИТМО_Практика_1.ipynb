{
  "nbformat": 4,
  "nbformat_minor": 0,
  "metadata": {
    "colab": {
      "provenance": []
    },
    "kernelspec": {
      "name": "python3",
      "display_name": "Python 3"
    },
    "language_info": {
      "name": "python"
    }
  },
  "cells": [
    {
      "cell_type": "code",
      "execution_count": null,
      "metadata": {
        "colab": {
          "base_uri": "https://localhost:8080/"
        },
        "id": "90xGtFXSOxxR",
        "outputId": "ca2ee516-0f45-47e4-b72f-9d24113d7633"
      },
      "outputs": [
        {
          "output_type": "stream",
          "name": "stdout",
          "text": [
            "Цена батончика должна быть больше нуля.\n",
            "Шоколадный батончик, добавка: орехи\n",
            "Обычный шоколадный батончик\n",
            "Шоколадный батончик, 50.0 рублей\n",
            "Шоколадный батончик, 30.0 рублей\n"
          ]
        }
      ],
      "source": [
        "class Chocolate:\n",
        "    def __init__(self, price: float, additive: str = None):\n",
        "        if price <= 0:\n",
        "            raise ValueError(\"Цена батончика должна быть больше нуля.\")\n",
        "        self.price = price\n",
        "        self.additive = additive\n",
        "\n",
        "    def show_my_chocolate(self):\n",
        "        if self.additive:\n",
        "            print(f\"Шоколадный батончик, добавка: {self.additive}\")\n",
        "        else:\n",
        "            print(\"Обычный шоколадный батончик\")\n",
        "\n",
        "    def __str__(self):\n",
        "        return f\"Шоколадный батончик, {self.price} рублей\"\n",
        "\n",
        "# Демонстрация использования класса Chocolate\n",
        "try:\n",
        "    # Создаем объекты с различными аргументами\n",
        "    choco1 = Chocolate(50.0, \"орехи\")\n",
        "    choco2 = Chocolate(30.0)\n",
        "    choco3 = Chocolate(-10.0)  # Это вызовет исключение ValueError\n",
        "\n",
        "except ValueError as e:\n",
        "    print(e)\n",
        "\n",
        "# Выводим информацию о шоколадных батончиках\n",
        "choco1.show_my_chocolate()\n",
        "choco2.show_my_chocolate()\n",
        "\n",
        "# Используем переопределенный метод __str__\n",
        "print(choco1)\n",
        "print(choco2)"
      ]
    },
    {
      "cell_type": "code",
      "source": [
        "#ВОПРОС Почему то тест ломается на функции? В Колабе проблем нет :\n",
        "def calc_min(a,b):\n",
        "    a=(a,b)\n",
        "    return min(a)\n",
        "\n",
        "\n",
        "print(calc_min(10,20))"
      ],
      "metadata": {
        "colab": {
          "base_uri": "https://localhost:8080/"
        },
        "id": "438ImBamO3Kr",
        "outputId": "8c3301c7-87e1-474f-d9c9-742d345ff983"
      },
      "execution_count": null,
      "outputs": [
        {
          "output_type": "stream",
          "name": "stdout",
          "text": [
            "10\n"
          ]
        }
      ]
    }
  ]
}